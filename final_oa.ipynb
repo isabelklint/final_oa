{
  "cells": [
    {
      "cell_type": "markdown",
      "metadata": {
        "id": "view-in-github",
        "colab_type": "text"
      },
      "source": [
        "<a href=\"https://colab.research.google.com/github/isabelklint/final_oa/blob/main/final_oa.ipynb\" target=\"_parent\"><img src=\"https://colab.research.google.com/assets/colab-badge.svg\" alt=\"Open In Colab\"/></a>"
      ]
    },
    {
      "cell_type": "markdown",
      "source": [
        "#<font color=\"D41159\">NLP Project for Open Avenues Micro-Internship"
      ],
      "metadata": {
        "id": "ETtE_41aa4EZ"
      }
    },
    {
      "cell_type": "code",
      "source": [
        "# install required packages if necessary\n",
        "# !pip install spacy\n",
        "# !pip install gensim\n",
        "# !pip install pyldavis\n",
        "# !pip install wordcloud\n",
        "# !pip install pyLDAvis"
      ],
      "metadata": {
        "id": "HftuTGxrlbyJ"
      },
      "execution_count": 1,
      "outputs": []
    },
    {
      "cell_type": "code",
      "execution_count": 121,
      "metadata": {
        "id": "EipFaaaBabof"
      },
      "outputs": [],
      "source": [
        "# import statements\n",
        "import en_core_web_sm\n",
        "import gensim\n",
        "import io\n",
        "import itertools\n",
        "import math\n",
        "import matplotlib\n",
        "import matplotlib.cm as cm\n",
        "import matplotlib.pyplot as plt\n",
        "from matplotlib.path import Path\n",
        "from matplotlib.spines import Spine\n",
        "from matplotlib.transforms import Affine2D\n",
        "import nltk\n",
        "from nltk import ngrams\n",
        "from nltk.corpus import stopwords\n",
        "from nltk.corpus import wordnet as wn\n",
        "import numpy as np\n",
        "import pandas as pd\n",
        "import pickle\n",
        "import pyLDAvis\n",
        "import pyLDAvis.gensim_models\n",
        "import pyLDAvis.sklearn\n",
        "import random\n",
        "import re\n",
        "from collections import Counter\n",
        "from gensim import corpora\n",
        "from gensim.models import LdaModel\n",
        "from gensim.models.ldamodel import LdaModel\n",
        "from gensim.models import Word2Vec\n",
        "from google.colab import files\n",
        "from IPython.core.display import display\n",
        "from itertools import product\n",
        "from sklearn.decomposition import LatentDirichletAllocation\n",
        "from sklearn.decomposition import TruncatedSVD\n",
        "from sklearn.feature_extraction.text import CountVectorizer\n",
        "from sklearn.feature_extraction.text import TfidfVectorizer\n",
        "from sklearn.linear_model import LogisticRegression\n",
        "from sklearn.manifold import TSNE\n",
        "from sklearn.metrics import accuracy_score, classification_report, confusion_matrix\n",
        "from sklearn.model_selection import train_test_split\n",
        "import seaborn as sns\n",
        "import spacy\n",
        "from spacy.lang.en import English\n",
        "import string\n",
        "import warnings\n",
        "import wordcloud\n",
        "import warnings\n",
        "\n",
        "# Suppress warnings (not recommended)\n",
        "warnings.filterwarnings('ignore')\n"
      ]
    },
    {
      "cell_type": "code",
      "execution_count": 3,
      "metadata": {
        "colab": {
          "base_uri": "https://localhost:8080/",
          "height": 73
        },
        "id": "lLAwdhs0aTgz",
        "outputId": "02040882-1b76-49ce-d26d-ec00a132f201"
      },
      "outputs": [
        {
          "output_type": "display_data",
          "data": {
            "text/plain": [
              "<IPython.core.display.HTML object>"
            ],
            "text/html": [
              "\n",
              "     <input type=\"file\" id=\"files-57531b3b-392c-4764-80d0-381cf8f69296\" name=\"files[]\" multiple disabled\n",
              "        style=\"border:none\" />\n",
              "     <output id=\"result-57531b3b-392c-4764-80d0-381cf8f69296\">\n",
              "      Upload widget is only available when the cell has been executed in the\n",
              "      current browser session. Please rerun this cell to enable.\n",
              "      </output>\n",
              "      <script>// Copyright 2017 Google LLC\n",
              "//\n",
              "// Licensed under the Apache License, Version 2.0 (the \"License\");\n",
              "// you may not use this file except in compliance with the License.\n",
              "// You may obtain a copy of the License at\n",
              "//\n",
              "//      http://www.apache.org/licenses/LICENSE-2.0\n",
              "//\n",
              "// Unless required by applicable law or agreed to in writing, software\n",
              "// distributed under the License is distributed on an \"AS IS\" BASIS,\n",
              "// WITHOUT WARRANTIES OR CONDITIONS OF ANY KIND, either express or implied.\n",
              "// See the License for the specific language governing permissions and\n",
              "// limitations under the License.\n",
              "\n",
              "/**\n",
              " * @fileoverview Helpers for google.colab Python module.\n",
              " */\n",
              "(function(scope) {\n",
              "function span(text, styleAttributes = {}) {\n",
              "  const element = document.createElement('span');\n",
              "  element.textContent = text;\n",
              "  for (const key of Object.keys(styleAttributes)) {\n",
              "    element.style[key] = styleAttributes[key];\n",
              "  }\n",
              "  return element;\n",
              "}\n",
              "\n",
              "// Max number of bytes which will be uploaded at a time.\n",
              "const MAX_PAYLOAD_SIZE = 100 * 1024;\n",
              "\n",
              "function _uploadFiles(inputId, outputId) {\n",
              "  const steps = uploadFilesStep(inputId, outputId);\n",
              "  const outputElement = document.getElementById(outputId);\n",
              "  // Cache steps on the outputElement to make it available for the next call\n",
              "  // to uploadFilesContinue from Python.\n",
              "  outputElement.steps = steps;\n",
              "\n",
              "  return _uploadFilesContinue(outputId);\n",
              "}\n",
              "\n",
              "// This is roughly an async generator (not supported in the browser yet),\n",
              "// where there are multiple asynchronous steps and the Python side is going\n",
              "// to poll for completion of each step.\n",
              "// This uses a Promise to block the python side on completion of each step,\n",
              "// then passes the result of the previous step as the input to the next step.\n",
              "function _uploadFilesContinue(outputId) {\n",
              "  const outputElement = document.getElementById(outputId);\n",
              "  const steps = outputElement.steps;\n",
              "\n",
              "  const next = steps.next(outputElement.lastPromiseValue);\n",
              "  return Promise.resolve(next.value.promise).then((value) => {\n",
              "    // Cache the last promise value to make it available to the next\n",
              "    // step of the generator.\n",
              "    outputElement.lastPromiseValue = value;\n",
              "    return next.value.response;\n",
              "  });\n",
              "}\n",
              "\n",
              "/**\n",
              " * Generator function which is called between each async step of the upload\n",
              " * process.\n",
              " * @param {string} inputId Element ID of the input file picker element.\n",
              " * @param {string} outputId Element ID of the output display.\n",
              " * @return {!Iterable<!Object>} Iterable of next steps.\n",
              " */\n",
              "function* uploadFilesStep(inputId, outputId) {\n",
              "  const inputElement = document.getElementById(inputId);\n",
              "  inputElement.disabled = false;\n",
              "\n",
              "  const outputElement = document.getElementById(outputId);\n",
              "  outputElement.innerHTML = '';\n",
              "\n",
              "  const pickedPromise = new Promise((resolve) => {\n",
              "    inputElement.addEventListener('change', (e) => {\n",
              "      resolve(e.target.files);\n",
              "    });\n",
              "  });\n",
              "\n",
              "  const cancel = document.createElement('button');\n",
              "  inputElement.parentElement.appendChild(cancel);\n",
              "  cancel.textContent = 'Cancel upload';\n",
              "  const cancelPromise = new Promise((resolve) => {\n",
              "    cancel.onclick = () => {\n",
              "      resolve(null);\n",
              "    };\n",
              "  });\n",
              "\n",
              "  // Wait for the user to pick the files.\n",
              "  const files = yield {\n",
              "    promise: Promise.race([pickedPromise, cancelPromise]),\n",
              "    response: {\n",
              "      action: 'starting',\n",
              "    }\n",
              "  };\n",
              "\n",
              "  cancel.remove();\n",
              "\n",
              "  // Disable the input element since further picks are not allowed.\n",
              "  inputElement.disabled = true;\n",
              "\n",
              "  if (!files) {\n",
              "    return {\n",
              "      response: {\n",
              "        action: 'complete',\n",
              "      }\n",
              "    };\n",
              "  }\n",
              "\n",
              "  for (const file of files) {\n",
              "    const li = document.createElement('li');\n",
              "    li.append(span(file.name, {fontWeight: 'bold'}));\n",
              "    li.append(span(\n",
              "        `(${file.type || 'n/a'}) - ${file.size} bytes, ` +\n",
              "        `last modified: ${\n",
              "            file.lastModifiedDate ? file.lastModifiedDate.toLocaleDateString() :\n",
              "                                    'n/a'} - `));\n",
              "    const percent = span('0% done');\n",
              "    li.appendChild(percent);\n",
              "\n",
              "    outputElement.appendChild(li);\n",
              "\n",
              "    const fileDataPromise = new Promise((resolve) => {\n",
              "      const reader = new FileReader();\n",
              "      reader.onload = (e) => {\n",
              "        resolve(e.target.result);\n",
              "      };\n",
              "      reader.readAsArrayBuffer(file);\n",
              "    });\n",
              "    // Wait for the data to be ready.\n",
              "    let fileData = yield {\n",
              "      promise: fileDataPromise,\n",
              "      response: {\n",
              "        action: 'continue',\n",
              "      }\n",
              "    };\n",
              "\n",
              "    // Use a chunked sending to avoid message size limits. See b/62115660.\n",
              "    let position = 0;\n",
              "    do {\n",
              "      const length = Math.min(fileData.byteLength - position, MAX_PAYLOAD_SIZE);\n",
              "      const chunk = new Uint8Array(fileData, position, length);\n",
              "      position += length;\n",
              "\n",
              "      const base64 = btoa(String.fromCharCode.apply(null, chunk));\n",
              "      yield {\n",
              "        response: {\n",
              "          action: 'append',\n",
              "          file: file.name,\n",
              "          data: base64,\n",
              "        },\n",
              "      };\n",
              "\n",
              "      let percentDone = fileData.byteLength === 0 ?\n",
              "          100 :\n",
              "          Math.round((position / fileData.byteLength) * 100);\n",
              "      percent.textContent = `${percentDone}% done`;\n",
              "\n",
              "    } while (position < fileData.byteLength);\n",
              "  }\n",
              "\n",
              "  // All done.\n",
              "  yield {\n",
              "    response: {\n",
              "      action: 'complete',\n",
              "    }\n",
              "  };\n",
              "}\n",
              "\n",
              "scope.google = scope.google || {};\n",
              "scope.google.colab = scope.google.colab || {};\n",
              "scope.google.colab._files = {\n",
              "  _uploadFiles,\n",
              "  _uploadFilesContinue,\n",
              "};\n",
              "})(self);\n",
              "</script> "
            ]
          },
          "metadata": {}
        },
        {
          "output_type": "stream",
          "name": "stdout",
          "text": [
            "Saving open_ave_data.csv to open_ave_data (1).csv\n"
          ]
        }
      ],
      "source": [
        "# choose file from your computer: open_ave_data.csv\n",
        "uploaded = files.upload()\n"
      ]
    },
    {
      "cell_type": "code",
      "execution_count": 315,
      "metadata": {
        "id": "tEGCs3LOgEGg"
      },
      "outputs": [],
      "source": [
        "# make df from file\n",
        "temp = pd.read_csv('open_ave_data.csv', index_col=0)\n"
      ]
    },
    {
      "cell_type": "code",
      "execution_count": 316,
      "metadata": {
        "id": "92XK0L-jOrEW"
      },
      "outputs": [],
      "source": [
        "# remove duplicates\n",
        "df = temp.drop_duplicates()\n"
      ]
    },
    {
      "cell_type": "code",
      "execution_count": 317,
      "metadata": {
        "id": "5_50dwOX1_xh"
      },
      "outputs": [],
      "source": [
        "# drop null values\n",
        "df.dropna(inplace=True)\n"
      ]
    },
    {
      "cell_type": "code",
      "execution_count": 318,
      "metadata": {
        "id": "PT8hCNt6hpWS",
        "colab": {
          "base_uri": "https://localhost:8080/",
          "height": 236
        },
        "outputId": "5f2b8c6f-bbe2-49d8-f6bf-64941679f59a"
      },
      "outputs": [
        {
          "output_type": "execute_result",
          "data": {
            "text/plain": [
              "                                               ReportText  \\\n",
              "count                                                 950   \n",
              "unique                                                950   \n",
              "top     EXAM: CHEST RADIOGRAPHY EXAM DATE: 06/01/2019 ...   \n",
              "freq                                                    1   \n",
              "\n",
              "                                                 findings  \\\n",
              "count                                                 950   \n",
              "unique                                                406   \n",
              "top     FINDINGS: Lungs/Pleura: No focal opacities evi...   \n",
              "freq                                                  174   \n",
              "\n",
              "                              clinicaldata  \\\n",
              "count                                  950   \n",
              "unique                                 367   \n",
              "top     CLINICAL HISTORY: Chest pain. \\n\\n   \n",
              "freq                                    84   \n",
              "\n",
              "                                       ExamName  \\\n",
              "count                                       950   \n",
              "unique                                      732   \n",
              "top     EXAM: CHEST 2 VIEW\\n\\nCOMPARISON: None.   \n",
              "freq                                         35   \n",
              "\n",
              "                                    impression  \n",
              "count                                      950  \n",
              "unique                                     486  \n",
              "top     IMPRESSION: Normal single view chest.   \n",
              "freq                                       160  "
            ],
            "text/html": [
              "\n",
              "  <div id=\"df-9c80373b-bc0a-465f-ab21-b33fac1fe21b\">\n",
              "    <div class=\"colab-df-container\">\n",
              "      <div>\n",
              "<style scoped>\n",
              "    .dataframe tbody tr th:only-of-type {\n",
              "        vertical-align: middle;\n",
              "    }\n",
              "\n",
              "    .dataframe tbody tr th {\n",
              "        vertical-align: top;\n",
              "    }\n",
              "\n",
              "    .dataframe thead th {\n",
              "        text-align: right;\n",
              "    }\n",
              "</style>\n",
              "<table border=\"1\" class=\"dataframe\">\n",
              "  <thead>\n",
              "    <tr style=\"text-align: right;\">\n",
              "      <th></th>\n",
              "      <th>ReportText</th>\n",
              "      <th>findings</th>\n",
              "      <th>clinicaldata</th>\n",
              "      <th>ExamName</th>\n",
              "      <th>impression</th>\n",
              "    </tr>\n",
              "  </thead>\n",
              "  <tbody>\n",
              "    <tr>\n",
              "      <th>count</th>\n",
              "      <td>950</td>\n",
              "      <td>950</td>\n",
              "      <td>950</td>\n",
              "      <td>950</td>\n",
              "      <td>950</td>\n",
              "    </tr>\n",
              "    <tr>\n",
              "      <th>unique</th>\n",
              "      <td>950</td>\n",
              "      <td>406</td>\n",
              "      <td>367</td>\n",
              "      <td>732</td>\n",
              "      <td>486</td>\n",
              "    </tr>\n",
              "    <tr>\n",
              "      <th>top</th>\n",
              "      <td>EXAM: CHEST RADIOGRAPHY EXAM DATE: 06/01/2019 ...</td>\n",
              "      <td>FINDINGS: Lungs/Pleura: No focal opacities evi...</td>\n",
              "      <td>CLINICAL HISTORY: Chest pain. \\n\\n</td>\n",
              "      <td>EXAM: CHEST 2 VIEW\\n\\nCOMPARISON: None.</td>\n",
              "      <td>IMPRESSION: Normal single view chest.</td>\n",
              "    </tr>\n",
              "    <tr>\n",
              "      <th>freq</th>\n",
              "      <td>1</td>\n",
              "      <td>174</td>\n",
              "      <td>84</td>\n",
              "      <td>35</td>\n",
              "      <td>160</td>\n",
              "    </tr>\n",
              "  </tbody>\n",
              "</table>\n",
              "</div>\n",
              "      <button class=\"colab-df-convert\" onclick=\"convertToInteractive('df-9c80373b-bc0a-465f-ab21-b33fac1fe21b')\"\n",
              "              title=\"Convert this dataframe to an interactive table.\"\n",
              "              style=\"display:none;\">\n",
              "        \n",
              "  <svg xmlns=\"http://www.w3.org/2000/svg\" height=\"24px\"viewBox=\"0 0 24 24\"\n",
              "       width=\"24px\">\n",
              "    <path d=\"M0 0h24v24H0V0z\" fill=\"none\"/>\n",
              "    <path d=\"M18.56 5.44l.94 2.06.94-2.06 2.06-.94-2.06-.94-.94-2.06-.94 2.06-2.06.94zm-11 1L8.5 8.5l.94-2.06 2.06-.94-2.06-.94L8.5 2.5l-.94 2.06-2.06.94zm10 10l.94 2.06.94-2.06 2.06-.94-2.06-.94-.94-2.06-.94 2.06-2.06.94z\"/><path d=\"M17.41 7.96l-1.37-1.37c-.4-.4-.92-.59-1.43-.59-.52 0-1.04.2-1.43.59L10.3 9.45l-7.72 7.72c-.78.78-.78 2.05 0 2.83L4 21.41c.39.39.9.59 1.41.59.51 0 1.02-.2 1.41-.59l7.78-7.78 2.81-2.81c.8-.78.8-2.07 0-2.86zM5.41 20L4 18.59l7.72-7.72 1.47 1.35L5.41 20z\"/>\n",
              "  </svg>\n",
              "      </button>\n",
              "      \n",
              "  <style>\n",
              "    .colab-df-container {\n",
              "      display:flex;\n",
              "      flex-wrap:wrap;\n",
              "      gap: 12px;\n",
              "    }\n",
              "\n",
              "    .colab-df-convert {\n",
              "      background-color: #E8F0FE;\n",
              "      border: none;\n",
              "      border-radius: 50%;\n",
              "      cursor: pointer;\n",
              "      display: none;\n",
              "      fill: #1967D2;\n",
              "      height: 32px;\n",
              "      padding: 0 0 0 0;\n",
              "      width: 32px;\n",
              "    }\n",
              "\n",
              "    .colab-df-convert:hover {\n",
              "      background-color: #E2EBFA;\n",
              "      box-shadow: 0px 1px 2px rgba(60, 64, 67, 0.3), 0px 1px 3px 1px rgba(60, 64, 67, 0.15);\n",
              "      fill: #174EA6;\n",
              "    }\n",
              "\n",
              "    [theme=dark] .colab-df-convert {\n",
              "      background-color: #3B4455;\n",
              "      fill: #D2E3FC;\n",
              "    }\n",
              "\n",
              "    [theme=dark] .colab-df-convert:hover {\n",
              "      background-color: #434B5C;\n",
              "      box-shadow: 0px 1px 3px 1px rgba(0, 0, 0, 0.15);\n",
              "      filter: drop-shadow(0px 1px 2px rgba(0, 0, 0, 0.3));\n",
              "      fill: #FFFFFF;\n",
              "    }\n",
              "  </style>\n",
              "\n",
              "      <script>\n",
              "        const buttonEl =\n",
              "          document.querySelector('#df-9c80373b-bc0a-465f-ab21-b33fac1fe21b button.colab-df-convert');\n",
              "        buttonEl.style.display =\n",
              "          google.colab.kernel.accessAllowed ? 'block' : 'none';\n",
              "\n",
              "        async function convertToInteractive(key) {\n",
              "          const element = document.querySelector('#df-9c80373b-bc0a-465f-ab21-b33fac1fe21b');\n",
              "          const dataTable =\n",
              "            await google.colab.kernel.invokeFunction('convertToInteractive',\n",
              "                                                     [key], {});\n",
              "          if (!dataTable) return;\n",
              "\n",
              "          const docLinkHtml = 'Like what you see? Visit the ' +\n",
              "            '<a target=\"_blank\" href=https://colab.research.google.com/notebooks/data_table.ipynb>data table notebook</a>'\n",
              "            + ' to learn more about interactive tables.';\n",
              "          element.innerHTML = '';\n",
              "          dataTable['output_type'] = 'display_data';\n",
              "          await google.colab.output.renderOutput(dataTable, element);\n",
              "          const docLink = document.createElement('div');\n",
              "          docLink.innerHTML = docLinkHtml;\n",
              "          element.appendChild(docLink);\n",
              "        }\n",
              "      </script>\n",
              "    </div>\n",
              "  </div>\n",
              "  "
            ]
          },
          "metadata": {},
          "execution_count": 318
        }
      ],
      "source": [
        "# take a look at df stats\n",
        "df.describe()\n"
      ]
    },
    {
      "cell_type": "code",
      "execution_count": 319,
      "metadata": {
        "id": "qJ5IrJTsPqQq",
        "colab": {
          "base_uri": "https://localhost:8080/"
        },
        "outputId": "801f819b-064b-4656-f46e-a3ca19c1bd32"
      },
      "outputs": [
        {
          "output_type": "stream",
          "name": "stdout",
          "text": [
            "<class 'pandas.core.frame.DataFrame'>\n",
            "Int64Index: 950 entries, 0 to 986\n",
            "Data columns (total 5 columns):\n",
            " #   Column        Non-Null Count  Dtype \n",
            "---  ------        --------------  ----- \n",
            " 0   ReportText    950 non-null    object\n",
            " 1   findings      950 non-null    object\n",
            " 2   clinicaldata  950 non-null    object\n",
            " 3   ExamName      950 non-null    object\n",
            " 4   impression    950 non-null    object\n",
            "dtypes: object(5)\n",
            "memory usage: 44.5+ KB\n"
          ]
        }
      ],
      "source": [
        "# different look at df stats\n",
        "df.info()\n"
      ]
    },
    {
      "cell_type": "code",
      "source": [
        "# rename ExamName to examname so it matches other headings\n",
        "df.rename(columns={'ExamName': 'examname'}, inplace=True)\n"
      ],
      "metadata": {
        "id": "2bp0PyU4PfIA"
      },
      "execution_count": 320,
      "outputs": []
    },
    {
      "cell_type": "code",
      "execution_count": 321,
      "metadata": {
        "id": "WXKSO5lPPmNc"
      },
      "outputs": [],
      "source": [
        "# make df lowercase\n",
        "df = df.applymap(lambda x: x.lower() if type(x) == str else x)\n"
      ]
    },
    {
      "cell_type": "code",
      "source": [
        "# look at df to see changes\n",
        "df.head(2)\n"
      ],
      "metadata": {
        "colab": {
          "base_uri": "https://localhost:8080/",
          "height": 190
        },
        "id": "-eqCV9KNQiru",
        "outputId": "d79b7e21-4aa4-42a3-c305-fce550981629"
      },
      "execution_count": 322,
      "outputs": [
        {
          "output_type": "execute_result",
          "data": {
            "text/plain": [
              "                                          ReportText  \\\n",
              "0  exam: chest radiography exam date: 06/01/2019 ...   \n",
              "1  exam: chest radiography exam date: 05/23/2020 ...   \n",
              "\n",
              "                                            findings  \\\n",
              "0  findings: lungs/pleura: no focal opacities evi...   \n",
              "1  findings: lungs/pleura: no focal opacities evi...   \n",
              "\n",
              "                         clinicaldata  \\\n",
              "0       clinical history: cough. \\n\\n   \n",
              "1  clinical history: chest pain. \\n\\n   \n",
              "\n",
              "                                            examname  \\\n",
              "0  exam: chest radiography exam date: 06/01/2019 ...   \n",
              "1  exam: chest radiography exam date: 05/23/2020 ...   \n",
              "\n",
              "                                          impression  \n",
              "0      impression: normal 2-view chest radiography.   \n",
              "1  impression: no acute cardiopulmonary abnormali...  "
            ],
            "text/html": [
              "\n",
              "  <div id=\"df-84e00359-d7a6-4198-8089-a050ed0f1721\">\n",
              "    <div class=\"colab-df-container\">\n",
              "      <div>\n",
              "<style scoped>\n",
              "    .dataframe tbody tr th:only-of-type {\n",
              "        vertical-align: middle;\n",
              "    }\n",
              "\n",
              "    .dataframe tbody tr th {\n",
              "        vertical-align: top;\n",
              "    }\n",
              "\n",
              "    .dataframe thead th {\n",
              "        text-align: right;\n",
              "    }\n",
              "</style>\n",
              "<table border=\"1\" class=\"dataframe\">\n",
              "  <thead>\n",
              "    <tr style=\"text-align: right;\">\n",
              "      <th></th>\n",
              "      <th>ReportText</th>\n",
              "      <th>findings</th>\n",
              "      <th>clinicaldata</th>\n",
              "      <th>examname</th>\n",
              "      <th>impression</th>\n",
              "    </tr>\n",
              "  </thead>\n",
              "  <tbody>\n",
              "    <tr>\n",
              "      <th>0</th>\n",
              "      <td>exam: chest radiography exam date: 06/01/2019 ...</td>\n",
              "      <td>findings: lungs/pleura: no focal opacities evi...</td>\n",
              "      <td>clinical history: cough. \\n\\n</td>\n",
              "      <td>exam: chest radiography exam date: 06/01/2019 ...</td>\n",
              "      <td>impression: normal 2-view chest radiography.</td>\n",
              "    </tr>\n",
              "    <tr>\n",
              "      <th>1</th>\n",
              "      <td>exam: chest radiography exam date: 05/23/2020 ...</td>\n",
              "      <td>findings: lungs/pleura: no focal opacities evi...</td>\n",
              "      <td>clinical history: chest pain. \\n\\n</td>\n",
              "      <td>exam: chest radiography exam date: 05/23/2020 ...</td>\n",
              "      <td>impression: no acute cardiopulmonary abnormali...</td>\n",
              "    </tr>\n",
              "  </tbody>\n",
              "</table>\n",
              "</div>\n",
              "      <button class=\"colab-df-convert\" onclick=\"convertToInteractive('df-84e00359-d7a6-4198-8089-a050ed0f1721')\"\n",
              "              title=\"Convert this dataframe to an interactive table.\"\n",
              "              style=\"display:none;\">\n",
              "        \n",
              "  <svg xmlns=\"http://www.w3.org/2000/svg\" height=\"24px\"viewBox=\"0 0 24 24\"\n",
              "       width=\"24px\">\n",
              "    <path d=\"M0 0h24v24H0V0z\" fill=\"none\"/>\n",
              "    <path d=\"M18.56 5.44l.94 2.06.94-2.06 2.06-.94-2.06-.94-.94-2.06-.94 2.06-2.06.94zm-11 1L8.5 8.5l.94-2.06 2.06-.94-2.06-.94L8.5 2.5l-.94 2.06-2.06.94zm10 10l.94 2.06.94-2.06 2.06-.94-2.06-.94-.94-2.06-.94 2.06-2.06.94z\"/><path d=\"M17.41 7.96l-1.37-1.37c-.4-.4-.92-.59-1.43-.59-.52 0-1.04.2-1.43.59L10.3 9.45l-7.72 7.72c-.78.78-.78 2.05 0 2.83L4 21.41c.39.39.9.59 1.41.59.51 0 1.02-.2 1.41-.59l7.78-7.78 2.81-2.81c.8-.78.8-2.07 0-2.86zM5.41 20L4 18.59l7.72-7.72 1.47 1.35L5.41 20z\"/>\n",
              "  </svg>\n",
              "      </button>\n",
              "      \n",
              "  <style>\n",
              "    .colab-df-container {\n",
              "      display:flex;\n",
              "      flex-wrap:wrap;\n",
              "      gap: 12px;\n",
              "    }\n",
              "\n",
              "    .colab-df-convert {\n",
              "      background-color: #E8F0FE;\n",
              "      border: none;\n",
              "      border-radius: 50%;\n",
              "      cursor: pointer;\n",
              "      display: none;\n",
              "      fill: #1967D2;\n",
              "      height: 32px;\n",
              "      padding: 0 0 0 0;\n",
              "      width: 32px;\n",
              "    }\n",
              "\n",
              "    .colab-df-convert:hover {\n",
              "      background-color: #E2EBFA;\n",
              "      box-shadow: 0px 1px 2px rgba(60, 64, 67, 0.3), 0px 1px 3px 1px rgba(60, 64, 67, 0.15);\n",
              "      fill: #174EA6;\n",
              "    }\n",
              "\n",
              "    [theme=dark] .colab-df-convert {\n",
              "      background-color: #3B4455;\n",
              "      fill: #D2E3FC;\n",
              "    }\n",
              "\n",
              "    [theme=dark] .colab-df-convert:hover {\n",
              "      background-color: #434B5C;\n",
              "      box-shadow: 0px 1px 3px 1px rgba(0, 0, 0, 0.15);\n",
              "      filter: drop-shadow(0px 1px 2px rgba(0, 0, 0, 0.3));\n",
              "      fill: #FFFFFF;\n",
              "    }\n",
              "  </style>\n",
              "\n",
              "      <script>\n",
              "        const buttonEl =\n",
              "          document.querySelector('#df-84e00359-d7a6-4198-8089-a050ed0f1721 button.colab-df-convert');\n",
              "        buttonEl.style.display =\n",
              "          google.colab.kernel.accessAllowed ? 'block' : 'none';\n",
              "\n",
              "        async function convertToInteractive(key) {\n",
              "          const element = document.querySelector('#df-84e00359-d7a6-4198-8089-a050ed0f1721');\n",
              "          const dataTable =\n",
              "            await google.colab.kernel.invokeFunction('convertToInteractive',\n",
              "                                                     [key], {});\n",
              "          if (!dataTable) return;\n",
              "\n",
              "          const docLinkHtml = 'Like what you see? Visit the ' +\n",
              "            '<a target=\"_blank\" href=https://colab.research.google.com/notebooks/data_table.ipynb>data table notebook</a>'\n",
              "            + ' to learn more about interactive tables.';\n",
              "          element.innerHTML = '';\n",
              "          dataTable['output_type'] = 'display_data';\n",
              "          await google.colab.output.renderOutput(dataTable, element);\n",
              "          const docLink = document.createElement('div');\n",
              "          docLink.innerHTML = docLinkHtml;\n",
              "          element.appendChild(docLink);\n",
              "        }\n",
              "      </script>\n",
              "    </div>\n",
              "  </div>\n",
              "  "
            ]
          },
          "metadata": {},
          "execution_count": 322
        }
      ]
    },
    {
      "cell_type": "code",
      "source": [
        "# remove heading text from last four columns respectively\n",
        "text_columns = ['findings', 'clinicaldata', 'examname', 'impression']\n",
        "remove_words = [['findings'], ['clinical history', 'clinical information', 'clinical indications', 'history', 'clinical indication'], ['examination', 'exam'], ['impression']]\n",
        "for col, words in zip(text_columns, remove_words):\n",
        "    for word in words:\n",
        "        df[col] = df[col].str.replace(word, '', case=False)\n"
      ],
      "metadata": {
        "id": "HWoDbgRwM5GX"
      },
      "execution_count": 323,
      "outputs": []
    },
    {
      "cell_type": "code",
      "execution_count": 324,
      "metadata": {
        "id": "LqKz7cYvO3Ak",
        "colab": {
          "base_uri": "https://localhost:8080/"
        },
        "outputId": "4c2bb27c-43a0-405e-eeb8-f2e986c3f78a"
      },
      "outputs": [
        {
          "output_type": "stream",
          "name": "stderr",
          "text": [
            "[nltk_data] Downloading package stopwords to /root/nltk_data...\n",
            "[nltk_data]   Package stopwords is already up-to-date!\n"
          ]
        }
      ],
      "source": [
        "# remove stop words, punctuation, and numbers from df\n",
        "nltk.download('stopwords')\n",
        "\n",
        "stop_words = set(stopwords.words('english'))\n",
        "punctuation = set(string.punctuation)\n",
        "text_columns = ['ReportText', 'findings', 'clinicaldata', 'examname', 'impression']\n",
        "for col in text_columns:\n",
        "    df[col] = df[col].apply(lambda x: ' '.join([word for word in re.findall(r'\\b\\w+\\b', x)\n",
        "    if word.lower() not in stop_words and not all(char in punctuation or char.isdigit() for char in word)]))\n"
      ]
    },
    {
      "cell_type": "code",
      "source": [
        "df.head(2)"
      ],
      "metadata": {
        "colab": {
          "base_uri": "https://localhost:8080/",
          "height": 112
        },
        "id": "gVFj53-8PYqz",
        "outputId": "c9b4b77c-ab4b-4e97-d769-cdd6937e0178"
      },
      "execution_count": 325,
      "outputs": [
        {
          "output_type": "execute_result",
          "data": {
            "text/plain": [
              "                                          ReportText  \\\n",
              "0  exam chest radiography exam date pm clinical h...   \n",
              "1  exam chest radiography exam date pm clinical h...   \n",
              "\n",
              "                                            findings clinicaldata  \\\n",
              "0  lungs pleura focal opacities evident pleural e...        cough   \n",
              "1  lungs pleura focal opacities evident pleural e...   chest pain   \n",
              "\n",
              "                                            examname  \\\n",
              "0  chest radiography date pm technique views comp...   \n",
              "1  chest radiography date pm technique view compa...   \n",
              "\n",
              "                          impression  \n",
              "0      normal view chest radiography  \n",
              "1  acute cardiopulmonary abnormality  "
            ],
            "text/html": [
              "\n",
              "  <div id=\"df-7e7c4c3c-f6a4-44c4-9264-d3dadf589fe2\">\n",
              "    <div class=\"colab-df-container\">\n",
              "      <div>\n",
              "<style scoped>\n",
              "    .dataframe tbody tr th:only-of-type {\n",
              "        vertical-align: middle;\n",
              "    }\n",
              "\n",
              "    .dataframe tbody tr th {\n",
              "        vertical-align: top;\n",
              "    }\n",
              "\n",
              "    .dataframe thead th {\n",
              "        text-align: right;\n",
              "    }\n",
              "</style>\n",
              "<table border=\"1\" class=\"dataframe\">\n",
              "  <thead>\n",
              "    <tr style=\"text-align: right;\">\n",
              "      <th></th>\n",
              "      <th>ReportText</th>\n",
              "      <th>findings</th>\n",
              "      <th>clinicaldata</th>\n",
              "      <th>examname</th>\n",
              "      <th>impression</th>\n",
              "    </tr>\n",
              "  </thead>\n",
              "  <tbody>\n",
              "    <tr>\n",
              "      <th>0</th>\n",
              "      <td>exam chest radiography exam date pm clinical h...</td>\n",
              "      <td>lungs pleura focal opacities evident pleural e...</td>\n",
              "      <td>cough</td>\n",
              "      <td>chest radiography date pm technique views comp...</td>\n",
              "      <td>normal view chest radiography</td>\n",
              "    </tr>\n",
              "    <tr>\n",
              "      <th>1</th>\n",
              "      <td>exam chest radiography exam date pm clinical h...</td>\n",
              "      <td>lungs pleura focal opacities evident pleural e...</td>\n",
              "      <td>chest pain</td>\n",
              "      <td>chest radiography date pm technique view compa...</td>\n",
              "      <td>acute cardiopulmonary abnormality</td>\n",
              "    </tr>\n",
              "  </tbody>\n",
              "</table>\n",
              "</div>\n",
              "      <button class=\"colab-df-convert\" onclick=\"convertToInteractive('df-7e7c4c3c-f6a4-44c4-9264-d3dadf589fe2')\"\n",
              "              title=\"Convert this dataframe to an interactive table.\"\n",
              "              style=\"display:none;\">\n",
              "        \n",
              "  <svg xmlns=\"http://www.w3.org/2000/svg\" height=\"24px\"viewBox=\"0 0 24 24\"\n",
              "       width=\"24px\">\n",
              "    <path d=\"M0 0h24v24H0V0z\" fill=\"none\"/>\n",
              "    <path d=\"M18.56 5.44l.94 2.06.94-2.06 2.06-.94-2.06-.94-.94-2.06-.94 2.06-2.06.94zm-11 1L8.5 8.5l.94-2.06 2.06-.94-2.06-.94L8.5 2.5l-.94 2.06-2.06.94zm10 10l.94 2.06.94-2.06 2.06-.94-2.06-.94-.94-2.06-.94 2.06-2.06.94z\"/><path d=\"M17.41 7.96l-1.37-1.37c-.4-.4-.92-.59-1.43-.59-.52 0-1.04.2-1.43.59L10.3 9.45l-7.72 7.72c-.78.78-.78 2.05 0 2.83L4 21.41c.39.39.9.59 1.41.59.51 0 1.02-.2 1.41-.59l7.78-7.78 2.81-2.81c.8-.78.8-2.07 0-2.86zM5.41 20L4 18.59l7.72-7.72 1.47 1.35L5.41 20z\"/>\n",
              "  </svg>\n",
              "      </button>\n",
              "      \n",
              "  <style>\n",
              "    .colab-df-container {\n",
              "      display:flex;\n",
              "      flex-wrap:wrap;\n",
              "      gap: 12px;\n",
              "    }\n",
              "\n",
              "    .colab-df-convert {\n",
              "      background-color: #E8F0FE;\n",
              "      border: none;\n",
              "      border-radius: 50%;\n",
              "      cursor: pointer;\n",
              "      display: none;\n",
              "      fill: #1967D2;\n",
              "      height: 32px;\n",
              "      padding: 0 0 0 0;\n",
              "      width: 32px;\n",
              "    }\n",
              "\n",
              "    .colab-df-convert:hover {\n",
              "      background-color: #E2EBFA;\n",
              "      box-shadow: 0px 1px 2px rgba(60, 64, 67, 0.3), 0px 1px 3px 1px rgba(60, 64, 67, 0.15);\n",
              "      fill: #174EA6;\n",
              "    }\n",
              "\n",
              "    [theme=dark] .colab-df-convert {\n",
              "      background-color: #3B4455;\n",
              "      fill: #D2E3FC;\n",
              "    }\n",
              "\n",
              "    [theme=dark] .colab-df-convert:hover {\n",
              "      background-color: #434B5C;\n",
              "      box-shadow: 0px 1px 3px 1px rgba(0, 0, 0, 0.15);\n",
              "      filter: drop-shadow(0px 1px 2px rgba(0, 0, 0, 0.3));\n",
              "      fill: #FFFFFF;\n",
              "    }\n",
              "  </style>\n",
              "\n",
              "      <script>\n",
              "        const buttonEl =\n",
              "          document.querySelector('#df-7e7c4c3c-f6a4-44c4-9264-d3dadf589fe2 button.colab-df-convert');\n",
              "        buttonEl.style.display =\n",
              "          google.colab.kernel.accessAllowed ? 'block' : 'none';\n",
              "\n",
              "        async function convertToInteractive(key) {\n",
              "          const element = document.querySelector('#df-7e7c4c3c-f6a4-44c4-9264-d3dadf589fe2');\n",
              "          const dataTable =\n",
              "            await google.colab.kernel.invokeFunction('convertToInteractive',\n",
              "                                                     [key], {});\n",
              "          if (!dataTable) return;\n",
              "\n",
              "          const docLinkHtml = 'Like what you see? Visit the ' +\n",
              "            '<a target=\"_blank\" href=https://colab.research.google.com/notebooks/data_table.ipynb>data table notebook</a>'\n",
              "            + ' to learn more about interactive tables.';\n",
              "          element.innerHTML = '';\n",
              "          dataTable['output_type'] = 'display_data';\n",
              "          await google.colab.output.renderOutput(dataTable, element);\n",
              "          const docLink = document.createElement('div');\n",
              "          docLink.innerHTML = docLinkHtml;\n",
              "          element.appendChild(docLink);\n",
              "        }\n",
              "      </script>\n",
              "    </div>\n",
              "  </div>\n",
              "  "
            ]
          },
          "metadata": {},
          "execution_count": 325
        }
      ]
    },
    {
      "cell_type": "code",
      "source": [
        "# make a df_original from cleaned and processed df to re-use \n",
        "df_original = df\n"
      ],
      "metadata": {
        "id": "AAXdHhACPN1q"
      },
      "execution_count": 326,
      "outputs": []
    },
    {
      "cell_type": "code",
      "execution_count": 327,
      "metadata": {
        "id": "o2k2RUxHP-or"
      },
      "outputs": [],
      "source": [
        "# # text stats:  distribution of word lengths\n",
        "# text_columns = ['ReportText', 'findings', 'clinicaldata', 'examname', 'impression']\n",
        "# # nmber of columns in the grid\n",
        "# num_cols = 2\n",
        "# # number of rows in the grid\n",
        "# num_rows = math.ceil(len(text_columns) / num_cols)\n",
        "# fig, axes = plt.subplots(num_rows, num_cols, figsize=(12, 8))\n",
        "\n",
        "# for i, col in enumerate(text_columns):\n",
        "#     data = \" \".join(review for review in df[col])\n",
        "#     word_lengths = [len(word) for word in data.split()]\n",
        "#     # row index in the grid\n",
        "#     row_idx = i // num_cols\n",
        "#     # column index in the grid\n",
        "#     col_idx = i % num_cols  \n",
        "#     # subplot axes\n",
        "#     ax = axes[row_idx][col_idx] if num_rows > 1 else axes[col_idx]\n",
        "#     sns.histplot(word_lengths, kde=True, color='#D41159', edgecolor='none', ax=ax)\n",
        "#     ax.set_title(f'Distribution of Word Lengths in {col}')\n",
        "#     ax.set_xlabel('Word Length')\n",
        "#     ax.set_ylabel('Frequency')\n",
        "\n",
        "# # remove unused subplots\n",
        "# if num_rows * num_cols > len(text_columns):\n",
        "#     for i in range(len(text_columns), num_rows * num_cols):\n",
        "#         row_idx = i // num_cols\n",
        "#         col_idx = i % num_cols\n",
        "#         fig.delaxes(axes[row_idx][col_idx])\n",
        "\n",
        "# # sdjust the spacing between subplots\n",
        "# plt.tight_layout()  \n",
        "# plt.show()\n"
      ]
    },
    {
      "cell_type": "code",
      "source": [
        "# text stats: distribution of word lengths\n",
        "text_columns = ['ReportText', 'findings', 'clinicaldata', 'examname', 'impression']\n",
        "\n",
        "# number of columns in the grid\n",
        "num_cols = 2\n",
        "# number of rows in the grid\n",
        "num_rows = math.ceil(len(text_columns) / num_cols)\n",
        "\n",
        "fig, axes = plt.subplots(num_rows, num_cols, figsize=(12, 12))\n",
        "\n",
        "# set the y-axis limits for all subplots\n",
        "y_min = 0\n",
        "y_max = 7000\n",
        "for ax in axes.flatten():\n",
        "    ax.set_ylim([y_min, y_max])\n",
        "\n",
        "for i, col in enumerate(text_columns):\n",
        "    data = \" \".join(review for review in df[col])\n",
        "    word_lengths = [len(word) for word in data.split()]\n",
        "\n",
        "    # row index in the grid\n",
        "    row_idx = i // num_cols\n",
        "    # column index in the grid\n",
        "    col_idx = i % num_cols\n",
        "    # subplot axes\n",
        "    ax = axes[row_idx][col_idx] if num_rows > 1 else axes[col_idx]\n",
        "\n",
        "    sns.histplot(word_lengths, kde=True, color='#D41159', edgecolor='none', ax=ax)\n",
        "    ax.set_title(f'Distribution of Word Lengths in {col}')\n",
        "    ax.set_xlabel('Word Length')\n",
        "    ax.set_ylabel('Frequency')\n",
        "\n",
        "# remove unused subplots\n",
        "if num_rows * num_cols > len(text_columns):\n",
        "    for i in range(len(text_columns), num_rows * num_cols):\n",
        "        row_idx = i // num_cols\n",
        "        col_idx = i % num_cols\n",
        "        fig.delaxes(axes[row_idx][col_idx])\n",
        "\n",
        "# adjust the spacing between subplots\n",
        "plt.tight_layout()\n",
        "plt.show()\n"
      ],
      "metadata": {
        "colab": {
          "base_uri": "https://localhost:8080/",
          "height": 873
        },
        "id": "LiUID2fMWebI",
        "outputId": "383cfbb7-9ffb-408d-d124-fa15fd259ada"
      },
      "execution_count": 328,
      "outputs": [
        {
          "output_type": "display_data",
          "data": {
            "text/plain": [
              "<Figure size 864x864 with 5 Axes>"
            ],
            "image/png": "[encoded data removed]"
          },
          "metadata": {
            "needs_background": "light"
          }
        }
      ]
    },
    {
      "cell_type": "code",
      "source": [
        "text_columns = ['ReportText', 'findings', 'clinicaldata', 'examname', 'impression']\n",
        "\n",
        "fig, axes = plt.subplots(nrows=3, ncols=2, figsize=(10, 20))\n",
        "fig.tight_layout(pad=20.0)\n",
        "\n",
        "max_frequency = 0\n",
        "\n",
        "for i, col in enumerate(text_columns):\n",
        "    data = \" \".join(field for field in df[col])\n",
        "    words = data.split()\n",
        "    trigrams = ngrams(words, 3)\n",
        "    ngrams_count = Counter(trigrams)\n",
        "    top_ngrams = ngrams_count.most_common(20)\n",
        "    top_ngrams_df = pd.DataFrame(top_ngrams, columns=['n-gram', 'frequency'])\n",
        "    \n",
        "    row = i // 2\n",
        "    col = i % 2\n",
        "    sns.barplot(ax=axes[row][col], x='n-gram', y='frequency', data=top_ngrams_df, color='#D41159')\n",
        "    axes[row][col].set_title(f'Top 20 trigrams in {text_columns[i]}')\n",
        "    axes[row][col].set_xlabel('Trigram')\n",
        "    axes[row][col].set_ylabel('Frequency')\n",
        "    axes[row][col].set_xticklabels(top_ngrams_df['n-gram'], rotation=90)\n",
        "    \n",
        "    # Get the maximum frequency among all the subplots\n",
        "    max_frequency = max(max_frequency, top_ngrams_df['frequency'].max())\n",
        "\n",
        "# Set the common y-axis limit for all the subplots\n",
        "for row in axes:\n",
        "    for subplot in row:\n",
        "        subplot.set_ylim(0, max_frequency)\n",
        "\n",
        "plt.tight_layout()\n",
        "plt.show()\n"
      ],
      "metadata": {
        "colab": {
          "base_uri": "https://localhost:8080/",
          "height": 1000
        },
        "id": "UGhg-Ul2WH5R",
        "outputId": "e7fa95e5-5331-41b8-c82f-b3e0235ea339"
      },
      "execution_count": 329,
      "outputs": [
        {
          "output_type": "display_data",
          "data": {
            "text/plain": [
              "<Figure size 720x1440 with 6 Axes>"
            ],
            "image/png": "[encoded data removed]"
          },
          "metadata": {
            "needs_background": "light"
          }
        }
      ]
    },
    {
      "cell_type": "code",
      "source": [
        "# visualise word count of each field\n",
        "text_columns = ['ReportText', 'findings', 'clinicaldata', 'examname', 'impression']\n",
        "\n",
        "# Define colors for each label\n",
        "colours = {'findings': '#D35FB7', 'clinicaldata': '#FEFE62', 'examname': '#1A85FF', 'impression': '#D41159'}\n",
        "\n",
        "plt.figure(figsize=(10, 6))\n",
        "\n",
        "for col in text_columns:\n",
        "    word_counts = df[col].apply(lambda x: len(x.split()))\n",
        "    count_freq = Counter(word_counts)\n",
        "    \n",
        "    # Set the color of the bars for this label\n",
        "    color = colours.get(col, 'blue')\n",
        "    \n",
        "    plt.hist(word_counts, alpha=0.4, label=col, bins=30, color=color)\n",
        "\n",
        "plt.title('Distribution of Word Counts')\n",
        "plt.xlabel('Word Count')\n",
        "plt.ylabel('Number of Text Samples')\n",
        "plt.xlim([0, 100])\n",
        "plt.ylim([0, 400])\n",
        "plt.legend()\n",
        "plt.show()\n"
      ],
      "metadata": {
        "colab": {
          "base_uri": "https://localhost:8080/",
          "height": 404
        },
        "id": "FRgm_WdxPl-5",
        "outputId": "b0223302-7c20-4417-eace-e234a3908fe6"
      },
      "execution_count": 330,
      "outputs": [
        {
          "output_type": "display_data",
          "data": {
            "text/plain": [
              "<Figure size 720x432 with 1 Axes>"
            ],
            "image/png": "[encoded data removed]"
          },
          "metadata": {
            "needs_background": "light"
          }
        }
      ]
    },
    {
      "cell_type": "code",
      "execution_count": 331,
      "metadata": {
        "id": "NSOXNs1uSXGh",
        "colab": {
          "base_uri": "https://localhost:8080/"
        },
        "outputId": "aa1927fa-5fd0-4e0f-c6a2-8e7e6f251643"
      },
      "outputs": [
        {
          "output_type": "stream",
          "name": "stderr",
          "text": [
            "[nltk_data] Downloading package stopwords to /root/nltk_data...\n",
            "[nltk_data]   Package stopwords is already up-to-date!\n"
          ]
        }
      ],
      "source": [
        "# # get spacy english language model and nltk libraries for text pre-processing\n",
        "# spacy.load('en_core_web_sm')\n",
        "# from spacy.lang.en import English\n",
        "# parser = English()\n",
        "# import nltk\n",
        "# nltk.download('wordnet')\n",
        "# from nltk.corpus import wordnet as wn\n",
        "\n",
        "def get_lemma(word):\n",
        "  # use wordnet, lemmatisation\n",
        "    lemma = wn.morphy(word)\n",
        "    if lemma is None:\n",
        "        return word\n",
        "    else:\n",
        "        return lemma\n",
        "        \n",
        "from nltk.stem.wordnet import WordNetLemmatizer\n",
        "\n",
        "def get_lemma2(word):\n",
        "  # use wordnet, stemming\n",
        "    return WordNetLemmatizer().lemmatize(word)\n",
        "nltk.download('stopwords')\n",
        "en_stop = set(nltk.corpus.stopwords.words('english'))\n"
      ]
    },
    {
      "cell_type": "code",
      "execution_count": 332,
      "metadata": {
        "id": "7yZCjbwok9wL"
      },
      "outputs": [],
      "source": [
        "# make everything lowercase\n",
        "df = temp.applymap(lambda x: x.lower() if type(x) == str else x)\n"
      ]
    },
    {
      "cell_type": "code",
      "execution_count": 333,
      "metadata": {
        "id": "nBn1FugSoQMC"
      },
      "outputs": [],
      "source": [
        "# define regular expression pattern to remove numbers and punctuation\n",
        "pattern = r'[^\\w\\s]|\\d+'\n",
        "\n",
        "# define function to clean text\n",
        "def clean_text(text):\n",
        "    if pd.isna(text):\n",
        "        return ''\n",
        "    # remove newlines\n",
        "    text = text.replace('\\n', ' ')\n",
        "    # apply regular expression pattern to remove numbers and punctuation\n",
        "    text = re.sub(pattern, '', text)\n",
        "    return text\n",
        "\n",
        "# clean the whole df\n",
        "df_clean = df.applymap(clean_text)\n"
      ]
    },
    {
      "cell_type": "code",
      "execution_count": null,
      "metadata": {
        "id": "zM4t-AOCYk_X"
      },
      "outputs": [],
      "source": [
        "# running this cell will take a long time\n",
        "# load spacy model\n",
        "nlp = en_core_web_sm.load()\n",
        "\n",
        "df_clean = df_clean.dropna()\n",
        "df_clean = df_clean.reset_index(drop=True)\n",
        "\n",
        "# tokenize text\n",
        "def tokenize(text):\n",
        "    lda_tokens = []\n",
        "    tokens = nlp(text)\n",
        "    for token in tokens:\n",
        "        if token.orth_.isspace():\n",
        "            continue\n",
        "        else:\n",
        "            lda_tokens.append(token.lower_)\n",
        "    return lda_tokens\n",
        "\n",
        "# lemmatize tokens\n",
        "def get_lemma(token):\n",
        "    return token.lemma_\n",
        "\n",
        "def prepare_text_for_lda(text):\n",
        "    doc = nlp(text)\n",
        "    tokens = [token.text.lower() for token in doc if not token.is_stop and token.text not in string.punctuation]\n",
        "    tokens = [token for token in tokens if len(token) > 4 and not token.lower() in ['findings', 'clinical', 'history', 'exam', 'impression']]\n",
        "    tokens = [get_lemma(nlp(token)[0]) for token in tokens]\n",
        "    return tokens\n",
        "\n",
        "# create corpus and dictionary\n",
        "report_text_data = df_clean['ReportText'].tolist()\n",
        "text_data = [prepare_text_for_lda(text) for text in report_text_data]\n",
        "dictionary = corpora.Dictionary(text_data)\n",
        "corpus = [dictionary.doc2bow(text) for text in text_data]\n",
        "\n",
        "pickle.dump(corpus, open('corpus.pkl', 'wb'))\n",
        "dictionary.save('dictionary.gensim')\n",
        "\n",
        "# train LDA model (this takes a long time)\n",
        "NUM_TOPICS = 4\n",
        "ldamodel = LdaModel(corpus, num_topics=NUM_TOPICS, id2word=dictionary, passes=15)\n",
        "ldamodel.save('model4.gensim')\n",
        "\n",
        "# visualize LDA model\n",
        "pyLDAvis.enable_notebook()\n",
        "vis = pyLDAvis.gensim_models.prepare(ldamodel, corpus, dictionary)\n",
        "display(vis)\n"
      ]
    },
    {
      "cell_type": "code",
      "source": [
        "# running this cell will take a long time\n",
        "# make word clouds and compare them to topics: \n",
        "import matplotlib.pyplot as plt\n",
        "from matplotlib.colors import ListedColormap\n",
        "from wordcloud import WordCloud, STOPWORDS\n",
        "import numpy as np\n",
        "\n",
        "# create a custom colormap with shades of pink and reds\n",
        "colors = ['#d41159', '#ca1a66', '#c22372', '#b92c7e', '#b1348a', '#a83d96']\n",
        "\n",
        "cmap = ListedColormap(colors)\n",
        "\n",
        "def display_wordcloud(text):\n",
        "    stopwords = set(STOPWORDS)\n",
        "    # wc = WordCloud(stopwords=stopwords, background_color='white', width=1000, height=300, colormap=cmap, max_words=10)\n",
        "    wc = WordCloud(stopwords=stopwords, background_color='white', width=1000, height=300, colormap=cmap, max_words=15, collocations=False)\n",
        "    wc.generate(text)\n",
        "    plt.imshow(wc, interpolation='bilinear')\n",
        "    plt.axis('off')\n",
        "    plt.show()\n",
        "\n",
        "for col in ['examname', 'findings', 'clinicaldata', 'impression']:\n",
        "    # text = ' '.join([str(x) + ' ' for x in df_clean[col].fillna('').str.split().tolist()])\n",
        "    # text = ' '.join([str(x).strip() + ' ' for x in df_clean[col].fillna('').str.split().tolist()])\n",
        "    text = ' '.join([str(x).replace(\"'\", \"\") + ' ' for x in df_original[col].fillna('').str.split().tolist()])\n",
        "    display_wordcloud(text)\n",
        "    for i, row in enumerate(ldamodel[dictionary.doc2bow(prepare_text_for_lda(text))]):\n",
        "        if i >= 10:\n",
        "            break\n",
        "        topic_num = row[0]\n",
        "        topic_words = ldamodel.show_topic(topic_num, 4)\n",
        "        topic_words = ', '.join([word[0] for word in topic_words])\n",
        "        similarity = row[1]\n",
        "        print(f'{col} - Topic {topic_num}, Similarity: {similarity:.2f}, Words: {topic_words}')\n"
      ],
      "metadata": {
        "id": "7I62m1JLfowq"
      },
      "execution_count": null,
      "outputs": []
    },
    {
      "cell_type": "code",
      "execution_count": null,
      "metadata": {
        "id": "ztnUNQWl25qO"
      },
      "outputs": [],
      "source": [
        "# get original df\n",
        "data = df_original.drop('ReportText', axis=1)\n"
      ]
    },
    {
      "cell_type": "code",
      "execution_count": null,
      "metadata": {
        "id": "bXXEa6uL9jPP"
      },
      "outputs": [],
      "source": [
        "# convert all strings to lowercase\n",
        "data = data.apply(lambda x: x.str.lower() if x.dtype == 'object' else x)\n"
      ]
    },
    {
      "cell_type": "code",
      "source": [
        "# take a quick look\n",
        "data.head(2)\n"
      ],
      "metadata": {
        "id": "urpjD1LdbOFW"
      },
      "execution_count": null,
      "outputs": []
    },
    {
      "cell_type": "code",
      "execution_count": null,
      "metadata": {
        "id": "pIfyeifQ9h6Y"
      },
      "outputs": [],
      "source": [
        "# melt dataframe\n",
        "df_melted = pd.melt(data, var_name='label', value_name='text')\n",
        "# display melted dataframe\n",
        "print(df_melted)\n"
      ]
    },
    {
      "cell_type": "code",
      "execution_count": null,
      "metadata": {
        "id": "wMvw-_or4wgL"
      },
      "outputs": [],
      "source": [
        "# get rid of null values\n",
        "df = df_melted.dropna(subset=['text'])\n"
      ]
    },
    {
      "cell_type": "markdown",
      "source": [
        "#<font color=\"D41159\">TF-IDF word embedding visualization\n",
        "TF-IDF word embedding for key words: 'exam', 'findings', 'clinical', and 'impression'.\n",
        "\n",
        "Given a 2-column df of labels and texts:\n",
        "*   Print top 20 most important features per label.\n",
        "*   Get list of labels from label column. \n",
        "*   Make TD-IDF embeddings using TdidfVectorizer from scikit-learn.\n",
        "*   Dimensionality reduction via t-SNE from scikit-learn.\n",
        "*   Create scatterplot: x and y correspond to the t-SNE generated 2D array, colours correspond to labels."
      ],
      "metadata": {
        "id": "JNDtkns0crDb"
      }
    },
    {
      "cell_type": "code",
      "source": [
        "# create a list of unique labels\n",
        "labels = df['label'].unique()\n",
        "\n",
        "# generate tf-idf embeddings\n",
        "vectorizer = TfidfVectorizer(max_features=100)\n",
        "tfidf_matrix = vectorizer.fit_transform(df['text'])\n",
        "\n",
        "# train a logistic regression model\n",
        "lr = LogisticRegression()\n",
        "lr.fit(tfidf_matrix, df['label'])\n",
        "\n",
        "# # get the top 20 most important features for each label\n",
        "# for i, label in enumerate(labels):\n",
        "#     feature_names = vectorizer.get_feature_names_out()\n",
        "#     coef = lr.coef_[i]\n",
        "#     top_features = sorted(zip(coef, feature_names), reverse=True)[:20]\n",
        "#     print(f'Top 20 most important features for {label}:')\n",
        "#     for feature in top_features:\n",
        "#         print(f'{feature[1]} ({feature[0]:.2f})')\n",
        "#     print()\n",
        "\n",
        "# apply t-SNE for dimensionality reduction\n",
        "tsne = TSNE(n_components=2, verbose=1, perplexity=40, n_iter=300)\n",
        "tsne_results = tsne.fit_transform(tfidf_matrix.toarray())\n",
        "\n",
        "# create a scatter plot with color coded sections\n",
        "plt.figure(figsize=(10, 8))\n",
        "for i, label in enumerate(labels):\n",
        "    color = plt.cm.rainbow(np.linspace(0, 1, len(labels)))[i]\n",
        "    indices = df['label'] == label\n",
        "    plt.scatter(tsne_results[indices, 0], tsne_results[indices, 1], c=color, label=label, alpha=0.5)\n",
        "plt.legend()\n",
        "plt.show()\n"
      ],
      "metadata": {
        "id": "U-ebvLMq0XMY"
      },
      "execution_count": null,
      "outputs": []
    },
    {
      "cell_type": "markdown",
      "source": [
        "#<font color=\"D41159\">Train and Evaluate a logistic regression classifier for field extraction. \n",
        "*   Split df into training and testing datasets.\n",
        "*   Transform the text data via TD-IDF vectoriser to a numerical feature matrix.\n",
        "*   Fit the vectorizer on the training data.\n",
        "*   Train the classifier on the training data\n",
        "*   Predict labels for the testing data\n",
        "*   Print the accuracy score, confusion matrix, and classification report."
      ],
      "metadata": {
        "id": "zzKQvk5ZkEEr"
      }
    },
    {
      "cell_type": "code",
      "execution_count": null,
      "metadata": {
        "id": "GQNjfJQe4_zq"
      },
      "outputs": [],
      "source": [
        "# Load the data into a DataFrame\n",
        "data = df\n",
        "\n",
        "# Split the data into training and testing datasets\n",
        "train_data, test_data = train_test_split(data, test_size=0.2, random_state=42)\n",
        "\n",
        "# Create the TfidfVectorizer\n",
        "vectorizer = TfidfVectorizer()\n",
        "\n",
        "# Fit the vectorizer on the training data\n",
        "vectorizer.fit(train_data['text'])\n",
        "\n",
        "# Transform the text data into a numerical feature matrix\n",
        "train_features = vectorizer.transform(train_data['text'])\n",
        "test_features = vectorizer.transform(test_data['text'])\n",
        "\n",
        "# Create the logistic regression classifier\n",
        "classifier = LogisticRegression(C=1, solver='saga')\n",
        "\n",
        "# Train the classifier on the training data\n",
        "classifier.fit(train_features, train_data['label'])\n",
        "\n",
        "# Predict labels for the testing data\n",
        "predictions = classifier.predict(test_features)\n",
        "\n",
        "# Print the accuracy score\n",
        "accuracy = accuracy_score(test_data['label'], predictions)\n",
        "print(\"Accuracy:\", accuracy)\n",
        "\n",
        "# Print the confusion matrix\n",
        "cm = confusion_matrix(test_data['label'], predictions)\n",
        "print(\"Confusion Matrix:\\n\", cm)\n",
        "\n",
        "# Print the classification report\n",
        "cr = classification_report(test_data['label'], predictions)\n",
        "print(\"Classification Report:\\n\", cr)\n"
      ]
    },
    {
      "cell_type": "markdown",
      "source": [
        "#<font color=\"D41159\">Confusion matrix heatmap.\n",
        "Confusion matrix compares predicted/true labels of a machine learning classifier (logistic regression)."
      ],
      "metadata": {
        "id": "gSQaqj7AkDS8"
      }
    },
    {
      "cell_type": "code",
      "execution_count": null,
      "metadata": {
        "id": "3eQf3Psn_6ho"
      },
      "outputs": [],
      "source": [
        "plt.title('Confusion Matrix')\n",
        "plt.xlabel('Predicted Label')\n",
        "plt.ylabel('True Label')\n",
        "\n",
        "# Set the x-axis labels\n",
        "plt.xticks([0.5, 1.5, 2.5, 3.5], ['findings', 'clinicaldata', 'examname', 'impression'])\n",
        "\n",
        "# Set the y-axis labels\n",
        "plt.yticks([0.5, 1.5, 2.5, 3.5], ['findings', 'clinicaldata', 'examname', 'impression'])\n",
        "\n",
        "# Plot the confusion matrix as a heatmap\n",
        "sns.heatmap(cm, annot=True, fmt='d', cmap='PuRd', xticklabels=labels, yticklabels=labels)\n",
        "plt.xticks(rotation=90)\n",
        "plt.yticks(rotation=0)\n",
        "plt.title('Confusion Matrix')\n",
        "plt.xlabel('Predicted')\n",
        "plt.ylabel('Actual')\n",
        "plt.show()\n"
      ]
    },
    {
      "cell_type": "code",
      "source": [
        "# take a quick look at df\n",
        "df_melted.head(2)\n"
      ],
      "metadata": {
        "id": "95QgYIiSzMrL"
      },
      "execution_count": null,
      "outputs": []
    },
    {
      "cell_type": "code",
      "source": [
        "# Load stop words\n",
        "stop_words = stopwords.words('english')\n",
        "\n",
        "# Tokenize sentences into lists of words\n",
        "sentences = [s.split() for s in df_original['ReportText']]\n",
        "\n",
        "# Load word2vec model\n",
        "model = Word2Vec(sentences, vector_size=300, window=5, min_count=1, workers=4)\n"
      ],
      "metadata": {
        "id": "ILZebDaRL5sm"
      },
      "execution_count": null,
      "outputs": []
    },
    {
      "cell_type": "code",
      "source": [
        "# use pretrained model to get word embedding for each word in text\n",
        "nltk.download('punkt')\n",
        "\n",
        "# Tokenize the text in df_melted\n",
        "df_melted['tokenized_text'] = df_melted['text'].apply(nltk.word_tokenize)\n",
        "\n",
        "# Extract the embeddings\n",
        "embeddings = []\n",
        "out_of_vocab = []\n",
        "for word_list in df_melted['tokenized_text'].values:\n",
        "    for word in word_list:\n",
        "        if word in model.wv:\n",
        "            embeddings.append(model.wv[word])\n",
        "        else:\n",
        "            out_of_vocab.append(word)\n",
        "            \n",
        "if len(out_of_vocab) > 0:\n",
        "    print(f\"Ignoring {len(out_of_vocab)} out-of-vocabulary words: {', '.join(out_of_vocab)}\")\n",
        "    \n",
        "embeddings = np.array(embeddings)\n"
      ],
      "metadata": {
        "id": "WUNpsU-fPB05"
      },
      "execution_count": null,
      "outputs": []
    },
    {
      "cell_type": "markdown",
      "source": [
        "#<font color=\"D41159\">Word2Vec word embedding visualization\n",
        "Word2Vec word embedding for 'exam', 'findings', 'clinical', and 'impression'.\n",
        "\n",
        "*   Get words similar to above words from a pre-trained word embedding model using Gensim library. \n",
        "*   Cluster embeddings of similar words, store them in 2D numpy array.\n",
        "*   Reduce  dimensionality of  embeddings from 3D numpy array to 2D via Scikit-learn t-SNE algorithm.\n",
        "*   Plots the 2D embeddings of each word/similar words with Matplotlib. Points correspond to single words in the embedding space."
      ],
      "metadata": {
        "id": "hFKvI7qvZLFg"
      }
    },
    {
      "cell_type": "code",
      "source": [
        "keys = ['exam', 'findings', 'clinical', 'impression']\n",
        "\n",
        "embedding_clusters = []\n",
        "word_clusters = []\n",
        "for word in keys:\n",
        "    embeddings = []\n",
        "    words = []\n",
        "    for similar_word, _ in model.wv.most_similar(word, topn=30):\n",
        "        words.append(similar_word)\n",
        "        embeddings.append(model.wv[similar_word])\n",
        "    embedding_clusters.append(embeddings)\n",
        "    word_clusters.append(words)\n",
        "\n",
        "embedding_clusters = np.array(embedding_clusters)\n",
        "n, m, k = embedding_clusters.shape\n",
        "tsne_model_en_2d = TSNE(perplexity=15, n_components=2, init='pca', n_iter=3500, random_state=32)\n",
        "embeddings_en_2d = np.array(tsne_model_en_2d.fit_transform(embedding_clusters.reshape(n * m, k))).reshape(n, m, 2)\n",
        "\n",
        "# code adapted from:\n",
        "# https://towardsdatascience.com/google-news-and-leo-tolstoy-visualizing-word2vec-word-embeddings-with-t-sne-11558d8bd4d\n",
        "\n",
        "def tsne_plot_similar_words(title, labels, embedding_clusters, word_clusters, a, filename=None):\n",
        "    plt.figure(figsize=(16, 9))\n",
        "    colors = cm.rainbow(np.linspace(0, 1, len(labels)))\n",
        "    for label, embeddings, words, color in zip(labels, embedding_clusters, word_clusters, colors):\n",
        "        x = embeddings[:, 0]\n",
        "        y = embeddings[:, 1]\n",
        "        plt.scatter(x, y, c=np.array([color]), alpha=a, label=label)\n",
        "        for i, word in enumerate(words):\n",
        "            plt.annotate(word, alpha=0.5, xy=(x[i], y[i]), xytext=(5, 2),\n",
        "                         textcoords='offset points', ha='right', va='bottom', size=8)\n",
        "    plt.legend(loc=4)\n",
        "    plt.title(title)\n",
        "    plt.grid(True)\n",
        "    plt.show()\n",
        "\n",
        "tsne_plot_similar_words('Similar words from Report Text', keys, embeddings_en_2d, word_clusters, 0.7)\n"
      ],
      "metadata": {
        "id": "7hHflftnQDQI"
      },
      "execution_count": null,
      "outputs": []
    },
    {
      "cell_type": "markdown",
      "source": [
        "#<font color=\"D41159\">Word2Vec sentence embedding visualization\n",
        "Word2Vec word embedding for 'exam', 'findings', 'clinical', and 'impression'.\n",
        "\n",
        "*   Tokenise sentences into lists of words. \n",
        "*   Get word2vec model using tokenised sentences and get create sentence embeddings (mean value of word embeddings), store them in a list of numpy arrays.\n",
        "*   Make list into 2d array (rows are sentence embeddings, columns are dimensions) using np.vstack()\n",
        "*   Reduce dimensionality of the sentence embeddings to 2D via t-SNE.\n",
        "*   Plot sentence embeddings in 2D space, points correspond to sentence embeddings and point colour corresponds to sentence labels."
      ],
      "metadata": {
        "id": "Nkk6Z445gjsP"
      }
    },
    {
      "cell_type": "code",
      "source": [
        "# Load stop words\n",
        "stop_words = stopwords.words('english')\n",
        "\n",
        "# Tokenize sentences into lists of words\n",
        "sentences = [s.split() for s in df_original['ReportText']]\n",
        "\n",
        "# Load word2vec model\n",
        "model = Word2Vec(sentences, vector_size=300, window=5, min_count=1, workers=4)\n",
        "\n",
        "# Create sentence embeddings\n",
        "sentence_embeddings = []\n",
        "labels = df_melted['label']\n",
        "for sentence, label in zip(df_melted['text'], labels):\n",
        "    words = sentence.split()\n",
        "    words = [word for word in words if word not in stop_words]\n",
        "    word_embeddings = []\n",
        "    for word in words:\n",
        "        if word in model.wv.key_to_index:\n",
        "            word_embeddings.append(model.wv[word])\n",
        "    if word_embeddings:\n",
        "        sentence_embedding = np.mean(word_embeddings, axis=0)\n",
        "        sentence_embeddings.append(sentence_embedding)\n",
        "\n",
        "# Stack sentence embeddings into 2D array\n",
        "sentence_embeddings = np.vstack(sentence_embeddings)\n",
        "\n",
        "# Apply t-SNE to sentence embeddings\n",
        "tsne_model_en_2d = TSNE(perplexity=15, n_components=2, init='pca', n_iter=3500, random_state=32)\n",
        "embeddings_en_2d = tsne_model_en_2d.fit_transform(sentence_embeddings)\n",
        "\n",
        "# Plot sentence embeddings\n",
        "plt.figure(figsize=(16, 9))\n",
        "labels = np.unique(df_melted['label'])\n",
        "colours = {'findings': '#D35FB7', 'clinicaldata': '#FEFE62', 'examname': '#1A85FF', 'impression': '#D41159'}\n",
        "for label in labels:\n",
        "    indices = np.where(df_melted['label'] == label)\n",
        "    plt.scatter(embeddings_en_2d[indices, 0], embeddings_en_2d[indices, 1], c=colours[label], label=label)\n",
        "plt.title('Sentence Embeddings')\n",
        "plt.legend()\n",
        "plt.show()"
      ],
      "metadata": {
        "id": "VLghffFRmwS_"
      },
      "execution_count": null,
      "outputs": []
    },
    {
      "cell_type": "code",
      "source": [
        "text_columns = ['ReportText', 'findings', 'clinicaldata', 'examname', 'impression']\n",
        "\n",
        "# Define colors for each label\n",
        "colours = {'findings': '#D35FB7', 'clinicaldata': '#FEFE62', 'examname': '#1A85FF', 'impression': '#D41159'}\n",
        "\n",
        "plt.figure(figsize=(10, 6))\n",
        "\n",
        "for col in text_columns:\n",
        "    word_counts = df_original[col].apply(lambda x: len(x.split()))\n",
        "    count_freq = Counter(word_counts)\n",
        "    \n",
        "    # Set the color of the bars for this label\n",
        "    color = colours.get(col, 'blue')\n",
        "    \n",
        "    plt.hist(word_counts, alpha=0.3, label=col, bins=30, color=color)\n",
        "\n",
        "plt.title('Distribution of Word Counts')\n",
        "plt.xlabel('Word Count')\n",
        "plt.ylabel('Number of Text Samples')\n",
        "plt.xlim([0, 100])\n",
        "plt.ylim([0, 400])\n",
        "plt.legend()\n",
        "plt.show()\n"
      ],
      "metadata": {
        "id": "HcIJy0LwPA0c"
      },
      "execution_count": null,
      "outputs": []
    },
    {
      "cell_type": "markdown",
      "source": [
        "#<font color=\"D41159\">Classification reports for Word2vec and TF-IDF models\n",
        "This code generates classification reports for two different models: Word2Vec and TF-IDF."
      ],
      "metadata": {
        "id": "m8rYmWhpvIIj"
      }
    },
    {
      "cell_type": "code",
      "source": [
        "# Create a TF-IDF vectorizer\n",
        "tfidf_vectorizer = TfidfVectorizer()\n",
        "\n",
        "# Compute the TF-IDF vectors\n",
        "tfidf_vectors = tfidf_vectorizer.fit_transform(df_melted['text'])\n",
        "\n",
        "# Train a logistic regression model with Word2Vec vectors\n",
        "sentences = [s.split() for s in df_melted['text']]\n",
        "X = np.array([np.mean([model.wv[word] for word in sentence if word in model.wv.key_to_index], axis=0) for sentence in sentences])\n",
        "y = df_melted['label']\n",
        "lr_w2v = LogisticRegression(random_state=42, max_iter=10000)\n",
        "lr_w2v.fit(X, y)\n",
        "\n",
        "# Train a logistic regression model with TF-IDF vectors\n",
        "lr_tfidf = LogisticRegression(random_state=42)\n",
        "lr_tfidf.fit(tfidf_vectors, y)\n",
        "\n",
        "# Compute the accuracies of both models on the training set\n",
        "X_test = np.array([np.mean([model.wv[word] for word in sentence if word in model.wv.key_to_index], axis=0) for sentence in sentences])\n",
        "tfidf_vectors_test = tfidf_vectorizer.transform(df_melted['text'])\n",
        "y_pred_w2v = lr_w2v.predict(X_test)\n",
        "y_pred_tfidf = lr_tfidf.predict(tfidf_vectors_test)\n",
        "accuracy_w2v = accuracy_score(y, y_pred_w2v)\n",
        "accuracy_tfidf = accuracy_score(y, y_pred_tfidf)\n",
        "\n",
        "\n",
        "# Generate classification report for Word2Vec model\n",
        "print('Classification report for Word2Vec model:')\n",
        "print(classification_report(y, y_pred_w2v))\n",
        "\n",
        "# Generate classification report for TF-IDF model\n",
        "print('Classification report for TF-IDF model:')\n",
        "print(classification_report(y, y_pred_tfidf))\n"
      ],
      "metadata": {
        "id": "Kl9uv8JMdzqu"
      },
      "execution_count": null,
      "outputs": []
    },
    {
      "cell_type": "code",
      "source": [
        "# Import StandardScaler from scikit-learn\n",
        "from sklearn.preprocessing import StandardScaler\n",
        "\n",
        "# Create a TF-IDF vectorizer\n",
        "tfidf_vectorizer = TfidfVectorizer()\n",
        "\n",
        "# Compute the TF-IDF vectors\n",
        "tfidf_vectors = tfidf_vectorizer.fit_transform(df_melted['text'])\n",
        "\n",
        "# Train a logistic regression model with Word2Vec vectors\n",
        "sentences = [s.split() for s in df_melted['text']]\n",
        "X = np.array([np.mean([model.wv[word] for word in sentence if word in model.wv.key_to_index], axis=0) for sentence in sentences])\n",
        "y = df_melted['label']\n",
        "\n",
        "# Scale the Word2Vec vectors using StandardScaler\n",
        "scaler = StandardScaler()\n",
        "X_scaled = scaler.fit_transform(X)\n",
        "\n",
        "# add solver to remove error\n",
        "lr_w2v = LogisticRegression(random_state=42, solver='liblinear')\n",
        "lr_w2v.fit(X_scaled, y)\n",
        "\n",
        "# Train a logistic regression model with TF-IDF vectors\n",
        "lr_tfidf = LogisticRegression(random_state=42)\n",
        "lr_tfidf.fit(tfidf_vectors, y)\n",
        "\n",
        "# Compute the accuracies of both models on the training set\n",
        "X_test = np.array([np.mean([model.wv[word] for word in sentence if word in model.wv.key_to_index], axis=0) for sentence in sentences])\n",
        "tfidf_vectors_test = tfidf_vectorizer.transform(df_melted['text'])\n",
        "\n",
        "# Scale the Word2Vec test vectors using StandardScaler\n",
        "X_test_scaled = scaler.transform(X_test)\n",
        "\n",
        "y_pred_w2v = lr_w2v.predict(X_test_scaled)\n",
        "y_pred_tfidf = lr_tfidf.predict(tfidf_vectors_test)\n",
        "accuracy_w2v = accuracy_score(y, y_pred_w2v)\n",
        "accuracy_tfidf = accuracy_score(y, y_pred_tfidf)\n",
        "\n",
        "# Generate classification report for Word2Vec model\n",
        "print('Classification report for Word2Vec model:')\n",
        "print(classification_report(y, y_pred_w2v))\n",
        "\n",
        "# Generate classification report for TF-IDF model\n",
        "print('Classification report for TF-IDF model:')\n",
        "print(classification_report(y, y_pred_tfidf))\n"
      ],
      "metadata": {
        "id": "hGacJJN-_PPk"
      },
      "execution_count": null,
      "outputs": []
    },
    {
      "cell_type": "code",
      "source": [
        "# too accurate of models, why?\n",
        "# which features are the most important for each field?\n",
        "# Get the feature names from the TF-IDF vectorizer\n",
        "feature_names = tfidf_vectorizer.get_feature_names_out()\n",
        "\n",
        "# Get the coefficients for the TF-IDF model\n",
        "coefficients_tfidf = lr_tfidf.coef_\n",
        "\n",
        "# Print the top 10 most important features for each label\n",
        "for i, label in enumerate(lr_tfidf.classes_):\n",
        "    print(f'Top 10 features for label \"{label}\":')\n",
        "    sorted_indices = np.argsort(coefficients_tfidf[i])[::-1]\n",
        "    top_features = [feature_names[j] for j in sorted_indices[:10]]\n",
        "    print(', '.join(top_features))\n",
        "    print()\n"
      ],
      "metadata": {
        "id": "GOrlqGZLFuVW"
      },
      "execution_count": null,
      "outputs": []
    },
    {
      "cell_type": "code",
      "source": [
        "# get importance for each word above for each field\n",
        "# Define the list of words to get the importance of\n",
        "word_list = ['pain', 'cough', 'breath', 'shortness', 'indication', 'respiratory', 'dyspnea', 'fever', 'sob',\n",
        "             'failure', 'comparison', 'chest', 'technique', 'views', 'none', 'date', 'xr', 'view', 'pa', 'ap',\n",
        "             'heart', 'size', 'normal', 'pleural', 'lungs', 'silhouette', 'cardiomediastinal', 'within', 'osseous',\n",
        "             'effusion', 'normal', 'personalname', 'signed', 'cardiopulmonary', 'acute', 'disease', 'single',\n",
        "             'electronically', 'process', 'radiography']\n",
        "\n",
        "# Get the index of the 'Findings' label\n",
        "label_idx = np.where(lr_tfidf.classes_ == 'findings')[0][0]\n",
        "\n",
        "# Get the top 10 features for the 'Findings' label\n",
        "top_features = np.argsort(lr_tfidf.coef_[label_idx])[-10:]\n",
        "features = tfidf_vectorizer.get_feature_names_out()\n",
        "top_features_names = [features[i] for i in top_features]\n",
        "\n",
        "# Define an empty dataframe to store the results\n",
        "results_df = pd.DataFrame(columns=['word', 'label', 'importance'])\n",
        "\n",
        "# Loop through the word list and get the importance for each label\n",
        "for word in word_list:\n",
        "    for label in lr_tfidf.classes_:\n",
        "        label_idx = np.where(lr_tfidf.classes_ == label)[0][0]\n",
        "        if label == 'findings':\n",
        "            top_features = np.argsort(lr_tfidf.coef_[label_idx])[-10:]\n",
        "        else:\n",
        "            top_features = np.argsort(-lr_tfidf.coef_[label_idx])[-10:]\n",
        "        features = tfidf_vectorizer.get_feature_names_out()\n",
        "        if word in features:\n",
        "            feature_idx = features.tolist().index(word)\n",
        "            if feature_idx in top_features:\n",
        "                importance = lr_tfidf.coef_[label_idx][feature_idx]\n",
        "                results_df = results_df.append({'word': word, 'label': label, 'importance': importance},\n",
        "                                               ignore_index=True)\n"
      ],
      "metadata": {
        "id": "FHLSJP8NGYvT"
      },
      "execution_count": null,
      "outputs": []
    },
    {
      "cell_type": "code",
      "source": [
        "# melt df to show which words from above have any importance at all for each field (label)\n",
        "# Create a dictionary to store the importance of each word for each label\n",
        "importance_dict = {'word': [], 'label': [], 'importance': []}\n",
        "\n",
        "# Get the top features for each label\n",
        "for label in ['findings', 'clinicaldata', 'examname', 'impression']:\n",
        "    label_idx = np.where(lr_tfidf.classes_ == label)[0][0]\n",
        "    top_features = np.argsort(lr_tfidf.coef_[label_idx])[-10:]\n",
        "    features = tfidf_vectorizer.get_feature_names_out()\n",
        "    top_features_names = [features[i] for i in top_features]\n",
        "    \n",
        "    # Store the importance of each word for the current label in the dictionary\n",
        "    for word in top_features_names:\n",
        "        importance_dict['word'].append(word)\n",
        "        importance_dict['label'].append(label)\n",
        "        importance_dict['importance'].append(tfidf_vectors[:, features.tolist().index(word)].sum())\n",
        "\n",
        "# Create a DataFrame from the dictionary\n",
        "df = pd.DataFrame(importance_dict)\n",
        "\n",
        "# Melt the DataFrame to get the desired format\n",
        "melted_df = pd.melt(df, id_vars=['word', 'label'], value_vars=['importance'], var_name='label_importance', value_name='importance_value')\n",
        "\n",
        "# Pivot the DataFrame to get the desired format\n",
        "pivoted_df = melted_df.pivot(index='word', columns='label', values='label_importance').reset_index()\n",
        "\n",
        "# Rename the columns\n",
        "pivoted_df.columns.name = None\n",
        "pivoted_df = pivoted_df.rename(columns={'findings': 'finding'})\n",
        "\n",
        "# Print the resulting DataFrame\n",
        "print(pivoted_df)\n"
      ],
      "metadata": {
        "id": "-MJLDU94LKpW"
      },
      "execution_count": null,
      "outputs": []
    },
    {
      "cell_type": "code",
      "source": [
        "# how accurate are the models?\n",
        "# Compute the confusion matrices\n",
        "cm_w2v = confusion_matrix(y, y_pred_w2v)\n",
        "cm_tfidf = confusion_matrix(y, y_pred_tfidf)\n",
        "\n",
        "# Create a figure with two subplots\n",
        "fig, axs = plt.subplots(ncols=2, figsize=(12, 6))\n",
        "import matplotlib.pyplot as plt\n",
        "import seaborn as sns\n",
        "import numpy as np\n",
        "\n",
        "# Define the gradient colors\n",
        "colors = ['#FFFFFF', '#D41159']\n",
        "\n",
        "# Create a custom color map\n",
        "cmap = sns.blend_palette(colors, as_cmap=True)\n",
        "\n",
        "# Plot confusion matrix for td-idf model\n",
        "sns.heatmap(cm_tfidf, cmap=cmap, annot=True, fmt='d', ax=axs[0], cbar=False)\n",
        "axs[0].set_xticks([0, 1, 2, 3, 4])\n",
        "axs[0].set_xticklabels(['', 'Findings', 'Clinical Data', 'Exam Name', 'Impression'], fontsize=14, ha='center')\n",
        "axs[0].set_yticks([0, 1, 2, 3, 4])\n",
        "axs[0].set_yticklabels(['', 'Findings', 'Clinical Data', 'Exam Name', 'Impression'], fontsize=14, ha='center')\n",
        "axs[0].set_title('TD-IDF Model Confusion Matrix: Accuracy', fontsize=16)\n",
        "# Rotate xticklabels\n",
        "axs[0].set_xticklabels(axs[0].get_xticklabels(), rotation=45, ha='right')\n",
        "# Rotate yticklabels\n",
        "axs[0].set_yticklabels(axs[0].get_yticklabels(), rotation=0, ha='right')\n",
        "\n",
        "# Plot confusion matrix for Word2Vec model\n",
        "sns.heatmap(cm_w2v, cmap=cmap, annot=True, fmt='d', ax=axs[1], cbar_ax = fig.add_axes([0.93, 0.2, 0.02, 0.6]))\n",
        "axs[1].set_xticks([0, 1, 2, 3, 4])\n",
        "axs[1].set_xticklabels(['', 'Findings', 'Clinical Data', 'Exam Name', 'Impression'], fontsize=14, ha='center')\n",
        "axs[1].set_yticks([0, 1, 2, 3, 4])\n",
        "axs[1].set_yticklabels(['', 'Findings', 'Clinical Data', 'Exam Name', 'Impression'], fontsize=14, ha='center')\n",
        "axs[1].set_title('Word2Vec Model Confusion Matrix: Accuracy', fontsize=16)\n",
        "# Rotate xticklabels\n",
        "axs[1].set_xticklabels(axs[0].get_xticklabels(), rotation=45, ha='right')\n",
        "# Rotate yticklabels\n",
        "axs[1].set_yticklabels(axs[0].get_yticklabels(), rotation=0, ha='right')\n",
        "\n",
        "# Add a common x label\n",
        "fig.text(0.5, -0.05, 'True Label', ha='center', fontsize=14)\n",
        "\n",
        "# Add a common y label\n",
        "fig.text(-0.05, 0.5, 'Predicted Label', va='center', rotation='vertical', fontsize=14)\n",
        "\n",
        "# Adjust spacing between subplots\n",
        "plt.subplots_adjust(wspace=0.4)\n"
      ],
      "metadata": {
        "id": "LjbBqqURAngV"
      },
      "execution_count": null,
      "outputs": []
    },
    {
      "cell_type": "code",
      "source": [
        "# how precise are the models?\n",
        "# Define a function to calculate precision\n",
        "def precision(cm):\n",
        "    return np.diag(cm) / np.sum(cm, axis=0)\n",
        "\n",
        "# Compute the confusion matrices\n",
        "cm_w2v = confusion_matrix(y, y_pred_w2v)\n",
        "cm_tfidf = confusion_matrix(y, y_pred_tfidf)\n",
        "\n",
        "# Create a figure with two subplots\n",
        "fig, axs = plt.subplots(ncols=2, figsize=(12, 6))\n",
        "\n",
        "# Define the gradient colors\n",
        "colors = ['#FFFFFF', '#E34B9F']\n",
        "\n",
        "# Create a custom color map\n",
        "cmap = sns.blend_palette(colors, as_cmap=True)\n",
        "\n",
        "# Plot precision for td-idf model\n",
        "sns.heatmap(precision(cm_tfidf).reshape(1, -1), cmap=cmap, annot=True, fmt='.2f', ax=axs[0], cbar=False)\n",
        "axs[0].set_xticks([0, 1, 2, 3, 4])\n",
        "axs[0].set_xticklabels(['', 'Findings', 'Clinical Data', 'Exam Name', 'Impression'], fontsize=14, ha='center')\n",
        "axs[0].set_yticks([])\n",
        "axs[0].set_title('TD-IDF Model Heatmap: Precision', fontsize=16)\n",
        "\n",
        "# Rotate xticklabels\n",
        "axs[0].set_xticklabels(axs[0].get_xticklabels(), rotation=45, ha='right')\n",
        "# Rotate yticklabels\n",
        "axs[0].set_yticklabels(axs[0].get_yticklabels(), rotation=0, ha='right')\n",
        "\n",
        "# Plot precision for Word2Vec model\n",
        "sns.heatmap(precision(cm_w2v).reshape(1, -1), cmap=cmap, annot=True, fmt='.2f', ax=axs[1], cbar_ax = fig.add_axes([0.93, 0.2, 0.02, 0.6]))\n",
        "axs[1].set_xticks([0, 1, 2, 3, 4])\n",
        "axs[1].set_xticklabels(['', 'Findings', 'Clinical Data', 'Exam Name', 'Impression'], fontsize=14, ha='center')\n",
        "axs[1].set_yticks([])\n",
        "axs[1].set_title('Word2Vec Model Heatmap: Precision', fontsize=16)\n",
        "\n",
        "# Rotate xticklabels\n",
        "axs[1].set_xticklabels(axs[0].get_xticklabels(), rotation=45, ha='right')\n",
        "# Rotate yticklabels\n",
        "axs[1].set_yticklabels(axs[0].get_yticklabels(), rotation=0, ha='right')\n",
        "\n",
        "# Add a common x label\n",
        "fig.text(0.5, -0.05, 'Label', ha='center', fontsize=14)\n",
        "\n",
        "# Adjust spacing between subplots\n",
        "plt.subplots_adjust(wspace=0.4)\n"
      ],
      "metadata": {
        "id": "JVV6t_f1Dxl3"
      },
      "execution_count": null,
      "outputs": []
    },
    {
      "cell_type": "code",
      "source": [
        "import matplotlib.pyplot as plt\n",
        "\n",
        "# Create a scatter plot for the logistic regression model with Word2Vec vectors\n",
        "sentences = [s.split() for s in df_melted['text']]\n",
        "X = np.array([np.mean([model.wv[word] for word in sentence if word in model.wv.key_to_index], axis=0) for sentence in sentences])\n",
        "y = df_melted['label']\n",
        "lr_w2v = LogisticRegression(random_state=42, solver='liblinear',max_iter=10000)\n",
        "lr_w2v.fit(X, y)\n",
        "\n",
        "# Map the labels to corresponding colors\n",
        "colours = {'findings': '#D35FB7', 'clinicaldata': '#FEFE62', 'examname': '#1A85FF', 'impression': '#D41159'}\n",
        "colors_mapped = y.map(colours)\n",
        "\n",
        "fig, ax = plt.subplots(figsize=(12, 8))\n",
        "\n",
        "plt.scatter(X[:,0], X[:,1], c=colors_mapped)\n",
        "plt.title('Logistic Regression with Word2Vec Vectors: Field distribution in 2D based on similarity')\n",
        "plt.xlabel('Dimension 1')\n",
        "plt.ylabel('Dimension 2')\n",
        "\n",
        "# Create a legend based on the unique values in y\n",
        "unique_labels = y.unique()\n",
        "handles = []\n",
        "for label in unique_labels:\n",
        "    handles.append(plt.scatter([], [], c=colours[label], label=label))\n",
        "    \n",
        "legend = plt.legend(handles=handles, loc='lower right')\n",
        "for i, label in enumerate(unique_labels):\n",
        "    legend.legendHandles[i]._sizes = [30]\n",
        "\n",
        "plt.show()\n"
      ],
      "metadata": {
        "id": "EDRro7g00aud"
      },
      "execution_count": null,
      "outputs": []
    },
    {
      "cell_type": "code",
      "source": [
        "from sklearn.manifold import TSNE\n",
        "from sklearn.decomposition import TruncatedSVD\n",
        "\n",
        "# Create a TF-IDF vectorizer\n",
        "tfidf_vectorizer = TfidfVectorizer()\n",
        "\n",
        "# Compute the TF-IDF vectors\n",
        "tfidf_vectors = tfidf_vectorizer.fit_transform(df_melted['text'])\n",
        "\n",
        "# Reduce the dimensionality of the sparse matrix to 100 dimensions (to match the word2vec model)\n",
        "# couldn't make a scatterplot without using svd\n",
        "svd = TruncatedSVD(n_components=100, random_state=42)\n",
        "tfidf_vectors_2d = svd.fit_transform(tfidf_vectors)\n",
        "\n",
        "# Transform the reduced matrix into 2 dimensions using TSNE\n",
        "tsne = TSNE(n_components=2, random_state=42)\n",
        "tfidf_vectors_2d = tsne.fit_transform(tfidf_vectors_2d)\n"
      ],
      "metadata": {
        "id": "8eFVGOc6vFSP"
      },
      "execution_count": null,
      "outputs": []
    },
    {
      "cell_type": "code",
      "source": [
        "import matplotlib.pyplot as plt\n",
        "\n",
        "# Define color list\n",
        "colors = ['#D35FB7', '#FEFE62', '#1A85FF', '#D41159']\n",
        "\n",
        "fig, ax = plt.subplots(figsize=(12, 8))\n",
        "\n",
        "# Create scatter plot\n",
        "plt.scatter(tfidf_vectors_2d[:, 0], tfidf_vectors_2d[:, 1], c=[colors[label] for label in pd.factorize(df_melted['label'])[0]])\n",
        "\n",
        "# Add legend\n",
        "labels = pd.factorize(df_melted['label'])[1]\n",
        "plt.legend(handles=[plt.scatter([],[], c=color, label=label) for label, color in zip(labels, colors)], loc='best')\n",
        "\n",
        "# Set plot title and axis labels\n",
        "plt.title('TF-IDF Vectors with t-SNE: Medical Report Field distribution in 2D based on word importance per field')\n",
        "plt.xlabel('Dimension 1')\n",
        "plt.ylabel('Dimension 2')\n",
        "\n",
        "# Display plot\n",
        "plt.show()\n"
      ],
      "metadata": {
        "id": "aRt24kFczX4C"
      },
      "execution_count": null,
      "outputs": []
    },
    {
      "cell_type": "markdown",
      "source": [
        "Colours chosen where possible from [davidmathlogic.com](https://https://davidmathlogic.com/colorblind/#%231A85FF-%23D41159)."
      ],
      "metadata": {
        "id": "YMPfatEjQN6C"
      }
    },
    {
      "cell_type": "markdown",
      "source": [
        "All code edited and formatted by [ChatGPT](https://chat.openai.com). "
      ],
      "metadata": {
        "id": "YZbtNRk8QYDg"
      }
    },
    {
      "cell_type": "code",
      "source": [
        "# get versions\n",
        "# packages = [spacy, gensim, pyLDAvis, wordcloud, pyLDAvis, matplotlib, nltk]\n",
        "\n",
        "# for package in packages:\n",
        "#     print(package.__name__, package.__version__)"
      ],
      "metadata": {
        "id": "8BfkonfUQ7NJ"
      },
      "execution_count": null,
      "outputs": []
    },
    {
      "cell_type": "markdown",
      "source": [
        "My versions: \n",
        "- spacy 3.5.1\n",
        "- gensim 4.3.1\n",
        "- pyLDAvis 3.4.0\n",
        "- wordcloud 1.8.2.2\n",
        "- pyLDAvis 3.4.0\n",
        "- matplotlib 3.7.1\n",
        "- nltk 3.8.1"
      ],
      "metadata": {
        "id": "U25P9XDEQmDv"
      }
    }
  ],
  "metadata": {
    "colab": {
      "provenance": [],
      "include_colab_link": true
    },
    "kernelspec": {
      "display_name": "Python 3",
      "name": "python3"
    },
    "language_info": {
      "name": "python"
    }
  },
  "nbformat": 4,
  "nbformat_minor": 0
}